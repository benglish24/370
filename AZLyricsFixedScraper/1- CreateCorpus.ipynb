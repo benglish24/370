{
 "cells": [
  {
   "cell_type": "code",
   "execution_count": 1,
   "metadata": {},
   "outputs": [],
   "source": [
    "#Imports \n",
    "import os\n",
    "from bs4 import BeautifulSoup"
   ]
  },
  {
   "cell_type": "code",
   "execution_count": 3,
   "metadata": {},
   "outputs": [],
   "source": [
    "#Input your own pointer to a folder and what you want your corpus name to be\n",
    "folder_path = '../AZLyricsFixedScraper'\n",
    "output_file = '1TESTDoom.txt'\n",
    "# Function to extract text content from raw <div> elements\n",
    "def extract_raw_div_content(file_path):\n",
    "    with open(file_path, 'r', encoding='utf-8') as file:\n",
    "        html_content = file.read()\n",
    "    soup = BeautifulSoup(html_content, 'html.parser')\n",
    "    # Extract <div> elements (without class or id)\n",
    "    raw_div_data = []\n",
    "    for div_element in soup.find_all('div', class_=False, id=False):\n",
    "        raw_div_data.append(div_element.text.strip())\n",
    "    return raw_div_data\n",
    "# Iterate through HTML files in the folder\n",
    "with open(output_file, 'w', encoding='utf-8') as output_txt:\n",
    "    for filename in os.listdir(folder_path):\n",
    "        if filename.endswith('.html'):\n",
    "            file_path = os.path.join(folder_path, filename)\n",
    "            raw_div_info = extract_raw_div_content(file_path)\n",
    "            # Write raw <div> information to the output text file\n",
    "            for info in raw_div_info:\n",
    "                output_txt.write(f\"{info}\\n\")\n",
    "            output_txt.write('\\n')"
   ]
  }
 ],
 "metadata": {
  "kernelspec": {
   "display_name": "Python 3",
   "language": "python",
   "name": "python3"
  },
  "language_info": {
   "codemirror_mode": {
    "name": "ipython",
    "version": 3
   },
   "file_extension": ".py",
   "mimetype": "text/x-python",
   "name": "python",
   "nbconvert_exporter": "python",
   "pygments_lexer": "ipython3",
   "version": "undefined.undefined.undefined"
  }
 },
 "nbformat": 4,
 "nbformat_minor": 2
}
