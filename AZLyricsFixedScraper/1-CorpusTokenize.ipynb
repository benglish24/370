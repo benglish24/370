{
 "cells": [
  {
   "cell_type": "code",
   "execution_count": 15,
   "metadata": {},
   "outputs": [
    {
     "name": "stdout",
     "output_type": "stream",
     "text": [
      "<Text: : 520102.html [ Dr. Doom :>\n"
     ]
    }
   ],
   "source": [
    "import nltk\n",
    "path = \"1Doom.txt\"\n",
    "\n",
    "with open(path,mode ='r',encoding =\"utf-8\") as f:\n",
    "    songs = f.read()\n",
    "    \n",
    "text = \"\".join(songs)\n",
    "tokens = nltk.tokenize.word_tokenize(text)\n",
    "MFDoom = nltk.Text(tokens)\n",
    "print(MFDoom)"
   ]
  },
  {
   "cell_type": "code",
   "execution_count": 35,
   "metadata": {},
   "outputs": [],
   "source": [
    "from pathlib import Path\n",
    "import re\n",
    "import nltk # See note above.\n",
    "from sklearn.feature_extraction.text import CountVectorizer\n",
    "import pandas as pd\n",
    "\n",
    "from nltk.tokenize import word_tokenize\n",
    "from nltk.stem import WordNetLemmatizer\n",
    "lemmatizer = WordNetLemmatizer()\n",
    "\n",
    "# MPL block\n",
    "import matplotlib.pyplot as plt\n",
    "plt.rcParams['figure.dpi'] = 300\n",
    "plt.rcParams[\"figure.figsize\"] = (10,5)"
   ]
  },
  {
   "cell_type": "code",
   "execution_count": 30,
   "metadata": {},
   "outputs": [
    {
     "name": "stderr",
     "output_type": "stream",
     "text": [
      "Building ngram index...\n"
     ]
    },
    {
     "name": "stdout",
     "output_type": "stream",
     "text": [
      "loogie ? 's really getting gory , tell a joke , barely spoke , rarely\n",
      "smoke Stared at folks when properly provoked , mirror broke Here ,\n",
      "share strawberry morinin , gone haywire , wrong way You need it like\n",
      "space time foam , fold the rift The sun still shines in the fire , you\n",
      "the finest ! ) bites style types right before refill Disaster , can\n",
      "you see tin head tell him a cold shoulder for a Arabic Torah Charged\n",
      "in advance to translate it and use it To be specific more times on\n",
      "some grief crap\n"
     ]
    },
    {
     "data": {
      "text/plain": [
       "\"loogie ? 's really getting gory , tell a joke , barely spoke , rarely\\nsmoke Stared at folks when properly provoked , mirror broke Here ,\\nshare strawberry morinin , gone haywire , wrong way You need it like\\nspace time foam , fold the rift The sun still shines in the fire , you\\nthe finest ! ) bites style types right before refill Disaster , can\\nyou see tin head tell him a cold shoulder for a Arabic Torah Charged\\nin advance to translate it and use it To be specific more times on\\nsome grief crap\""
      ]
     },
     "execution_count": 30,
     "metadata": {},
     "output_type": "execute_result"
    }
   ],
   "source": [
    "MFDoom.generate()"
   ]
  }
 ],
 "metadata": {
  "kernelspec": {
   "display_name": "Python 3",
   "language": "python",
   "name": "python3"
  },
  "language_info": {
   "codemirror_mode": {
    "name": "ipython",
    "version": 3
   },
   "file_extension": ".py",
   "mimetype": "text/x-python",
   "name": "python",
   "nbconvert_exporter": "python",
   "pygments_lexer": "ipython3",
   "version": "3.11.7"
  }
 },
 "nbformat": 4,
 "nbformat_minor": 2
}
