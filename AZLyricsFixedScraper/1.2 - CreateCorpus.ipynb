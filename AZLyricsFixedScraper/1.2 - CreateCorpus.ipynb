{
 "cells": [
  {
   "cell_type": "code",
   "execution_count": 1,
   "metadata": {},
   "outputs": [],
   "source": [
    "#Imports \n",
    "import os\n",
    "from bs4 import BeautifulSoup"
   ]
  },
  {
   "cell_type": "code",
   "execution_count": 2,
   "metadata": {},
   "outputs": [],
   "source": [
    "# Function to extract text content from raw <div> elements\n",
    "def extract_raw_div_content(file_path):\n",
    "    with open(file_path, 'r', encoding='utf-8') as file:\n",
    "        html_content = file.read()\n",
    "    soup = BeautifulSoup(html_content, 'html.parser')\n",
    "# Code switched to return values out of loop from sourcery\n",
    "    return [\n",
    "        div_element.text.strip()\n",
    "        for div_element in soup.find_all('div', class_=False, id=False)\n",
    "    ]"
   ]
  },
  {
   "cell_type": "code",
   "execution_count": 26,
   "metadata": {},
   "outputs": [],
   "source": [
    "# Input your own pointer to a folder and what you want your corpus name to be\n",
    "# For our example, we will call our corpus \"Sample Songs.txt\"\n",
    "# From the \"1.1 - Scrape.ipynb\", the \"Sample Songs.txt\" will have 5\n",
    "folder_path = '../AZLyricsFixedScraper/1 - MFDoomSongs'\n",
    "name_file = input(\"Enter your new corpus name: \")\n",
    "output_file = name_file + \".txt\"\n",
    "# If the user wants to use some but not all songs, they may use this. Also used for testing\n",
    "count = 0\n",
    "filecount = int(input(\"How many songs would you like from the pulled links: \"))\n",
    "# Iterate through HTML files in the folder\n",
    "with open(output_file, 'w', encoding='utf-8') as output_txt:\n",
    "    for filename in os.listdir(folder_path):\n",
    "        if filename.endswith('.html'):\n",
    "            file_path = os.path.join(folder_path, filename)\n",
    "            raw_div_info = extract_raw_div_content(file_path)\n",
    "            # Write raw <div> information to the output text file\n",
    "            for info in raw_div_info:\n",
    "                output_txt.write(f'{filename}\\n')\n",
    "                #  Just added. Meant to separate songs\n",
    "                output_txt.write(f'===SONG START===\\n')\n",
    "                output_txt.write(f\"{info}\\n\")\n",
    "                output_txt.write(f'===SONG END===\\n')\n",
    "            output_txt.write('\\n')\n",
    "            count +=1\n",
    "            if count >= filecount: \n",
    "                break"
   ]
  }
 ],
 "metadata": {
  "kernelspec": {
   "display_name": "Python 3",
   "language": "python",
   "name": "python3"
  },
  "language_info": {
   "codemirror_mode": {
    "name": "ipython",
    "version": 3
   },
   "file_extension": ".py",
   "mimetype": "text/x-python",
   "name": "python",
   "nbconvert_exporter": "python",
   "pygments_lexer": "ipython3",
   "version": "3.11.7"
  }
 },
 "nbformat": 4,
 "nbformat_minor": 2
}
