{
 "cells": [
  {
   "cell_type": "code",
   "execution_count": null,
   "metadata": {},
   "outputs": [],
   "source": [
    "import urllib.request\n",
    "from bs4 import BeautifulSoup\n",
    "import pandas as pd\n",
    "\n",
    "myurl = \"https://www.azlyrics.com/m/mfdoom.html\"\n",
    "\n",
    "#Initial connection to the url to ensure user wont be blocked\n",
    "myconnection = urllib.request.urlopen(myurl)\n",
    "myhtml = myconnection.read()\n",
    "\n",
    "#Print successful connection to website\n",
    "print(myhtml[0:100])"
   ]
  },
  {
   "cell_type": "code",
   "execution_count": null,
   "metadata": {},
   "outputs": [],
   "source": [
    "#Go through the website html and grab all song titles\n",
    "mysoup = BeautifulSoup(myhtml, \"html\")\n",
    "mydivs = mysoup.find_all(class_=\"listalbum-item\")\n",
    "print(type(mydivs))\n",
    "count = 0\n",
    "#This will find all song titles\n",
    "#Includes album names listed under class = comment\n",
    "for i in mydivs:\n",
    "    count+=1\n",
    "    print(f\"({count}) {i}\")"
   ]
  },
  {
   "cell_type": "code",
   "execution_count": null,
   "metadata": {},
   "outputs": [],
   "source": [
    "import time\n",
    "import random\n",
    "# Imports to ensure next step is enabled to prevent errors later\n",
    "# Empty list to hold the results\n",
    "links = []\n",
    "itemNum = int(input(\"Enter maximum number of songs to find: \"))\n",
    "counter = 0\n",
    "# Iterate over the list of divs of the website to the max number of items\n",
    "for div in mydivs[0:itemNum]:\n",
    "    if not div.find('div',class_= 'comment'):\n",
    "        the_link = div.find('a')['href']\n",
    "        links.append(the_link)\n",
    "        counter+=1\n",
    "    print(f\"({counter}) {div}\")\n",
    "# Check results of links variable\n",
    "print(links)\n",
    "print(f\"Number of songs appended to list: {counter}\")"
   ]
  },
  {
   "cell_type": "code",
   "execution_count": null,
   "metadata": {},
   "outputs": [],
   "source": [
    "#Go to base website of azlyrics.com\n",
    "baseURL = \"https://www.azlyrics.com\"\n",
    "\n",
    "# When we go to save the files, \n",
    "# we want to remove this part of the link string:\n",
    "myfilter = \"/lyrics/mfdoom/\"\n",
    "songTrack = 0\n",
    "timeLeft = (len(links) * 30)\n",
    "for link in links:\n",
    "    remotefile = urllib.request.urlopen(baseURL+link)\n",
    "    filename = link.replace(myfilter, '')\n",
    "    time.sleep(random.randint(20,30))\n",
    "    localfile = open(filename,'wb')\n",
    "    localfile.write(remotefile.read())\n",
    "    localfile.close()\n",
    "    remotefile.close()\n",
    "    print(f\"({songTrack})Min Remaining: {timeLeft/60} {link}\")\n",
    "    timeLeft-=30\n",
    "    songTrack+=1"
   ]
  }
 ],
 "metadata": {
  "kernelspec": {
   "display_name": "Python 3",
   "language": "python",
   "name": "python3"
  },
  "language_info": {
   "codemirror_mode": {
    "name": "ipython",
    "version": 3
   },
   "file_extension": ".py",
   "mimetype": "text/x-python",
   "name": "python",
   "nbconvert_exporter": "python",
   "pygments_lexer": "ipython3",
   "version": "3.11.7"
  }
 },
 "nbformat": 4,
 "nbformat_minor": 2
}
