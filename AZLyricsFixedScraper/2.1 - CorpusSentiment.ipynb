{
 "cells": [
  {
   "cell_type": "code",
   "execution_count": 1,
   "metadata": {},
   "outputs": [],
   "source": [
    "# Import Block--------------------------------------------\n",
    "from vaderSentiment.vaderSentiment import SentimentIntensityAnalyzer # type: ignore\n",
    "#Import matplotlib to graph values generated from corpus sentiments\n",
    "import matplotlib.pyplot as plt # type: ignore\n",
    "import numpy as np # type: ignore\n",
    "import pandas as pd # type: ignore\n",
    "from nltk.tokenize import sent_tokenize, word_tokenize # type: ignore\n",
    "from gensim.models import Word2Vec # type: ignore\n",
    "from sklearn.decomposition import PCA # type: ignore\n",
    "# -----------------------------------------------------\n",
    "# My usual preferences\n",
    "plt.rcParams['figure.dpi'] = 1000\n",
    "plt.rcParams[\"figure.figsize\"] = (10,5)"
   ]
  },
  {
   "cell_type": "code",
   "execution_count": 2,
   "metadata": {},
   "outputs": [],
   "source": [
    "# Run this block after completing Section 1, and copy the name of your corpus\n",
    "filename = input(\"Enter your filename: \")\n"
   ]
  },
  {
   "cell_type": "code",
   "execution_count": 3,
   "metadata": {},
   "outputs": [],
   "source": [
    "# Function that reads through corpus and assigns weights to each sentence\n",
    "def read_file(file):\n",
    "    sentences = []\n",
    "# Strip through the sentences of the corpus, and append each to the sentence\n",
    "    with open(file,mode ='r',encoding =\"utf-8\") as file:\n",
    "        for line in file:\n",
    "            if line := line.strip():\n",
    "                sentences.append(line)\n",
    "    return sentences\n",
    "# Sentences will consist of the sentences of the read file at different indices"
   ]
  },
  {
   "cell_type": "code",
   "execution_count": 4,
   "metadata": {},
   "outputs": [],
   "source": [
    "# Function to read words of the corpus(Optional)\n",
    "# Mostly used to check how vader assigns weights per word\n",
    "def read_words(file):\n",
    "    words = []\n",
    "    with open(file,mode='r',encoding = 'utf-8') as file:\n",
    "        for line in file:\n",
    "            line = line.strip()\n",
    "            if line:\n",
    "                line_words = line.split()\n",
    "                words.extend(line_words)\n",
    "    return words"
   ]
  },
  {
   "cell_type": "code",
   "execution_count": 11,
   "metadata": {},
   "outputs": [
    {
     "name": "stdout",
     "output_type": "stream",
     "text": [
      "The last thing to fit was the mask------------------------------- 0.3612\n",
      "Will it conform to my twisted features in comfort---------------- 0.3612\n",
      "Last seen pulling chicks like a fiend pull a fast one------------ 0.3612\n",
      "Can't put shit past him------------------------------------------ 0.4449\n"
     ]
    }
   ],
   "source": [
    "# Select corpus as filename. Below are two methods which interpret \n",
    "# sentence weights or word weights\n",
    "sentences = read_file(filename)\n",
    "#Function to analyze the sentences\n",
    "analyzer = SentimentIntensityAnalyzer()\n",
    "# Allows user to compare sentiment polarity to find values above\n",
    "# I mostly used this to see if I could get higher values\n",
    "score = input(\"Enter a # between -1 and 1: \")\n",
    "# Demonstrates code size\n",
    "for sentence in sentences[0:10]:\n",
    "    vs = analyzer.polarity_scores(sentence)\n",
    "    if(vs[\"compound\"] >= float(score) ):\n",
    "        print(\"{:-<65} {}\".format(sentence,str(vs[\"compound\"])))\n"
   ]
  },
  {
   "cell_type": "code",
   "execution_count": null,
   "metadata": {},
   "outputs": [],
   "source": [
    "# Creates a distinct list that checks the values of the compounds(positive or negative value)\n",
    "sentiment = []\n",
    "for sentence in sentences:\n",
    "    vs = analyzer.polarity_scores(sentence)\n",
    "    sentiment.append(vs[\"compound\"])"
   ]
  },
  {
   "cell_type": "code",
   "execution_count": null,
   "metadata": {},
   "outputs": [],
   "source": [
    "# Calls read_words to print all compound values not equal to 0\n",
    "words = read_words(filename)\n",
    "count = 0\n",
    "analyzer = SentimentIntensityAnalyzer()\n",
    "for word in words:\n",
    "    vs = analyzer.polarity_scores(word)\n",
    "    count+=1\n",
    "    if vs[\"compound\"] != 0:\n",
    "        print(\"{:-<65} {}\".format(word,str(vs[\"compound\"])))\n",
    "#Counts the total amount of words in the words list\n",
    "print(f\"({count}) Polarized Word Count: {(len(words))}\")"
   ]
  },
  {
   "cell_type": "code",
   "execution_count": 12,
   "metadata": {},
   "outputs": [
    {
     "name": "stdout",
     "output_type": "stream",
     "text": [
      "[['[Dr.', 'Doom:]'], ['My', 'servants', 'began', 'to', 'forge', 'what', 'was', 'to', 'become'], ['The', 'most', 'dreaded', 'costume', 'on', 'the', 'face', 'of', 'the', 'earth'], ['The', 'last', 'thing', 'to', 'fit', 'was', 'the', 'mask'], ['Will', 'it', 'conform', 'to', 'my', 'twisted', 'features', 'in', 'comfort'], ['[MF', 'Doom:]'], ['He', 'cleans', 'his', 'metal', 'mask', 'with', 'gasoline,', 'they', 'after', 'him'], ['Last', 'seen', 'pulling', 'chicks', 'like', 'a', 'fiend', 'pull', 'a', 'fast', 'one'], [\"Can't\", 'put', 'shit', 'past', 'him'], ['Got', 'niggas', 'on', 'his', 'own', 'team', 'mad', 'enough', 'to', 'blast', 'him'], ['Retarded', 'in', 'real', 'life,', 'on', 'the', 'mic', 'Rain', 'Man'], ['Stand', 'close', 'to', 'his', 'main', 'man', 'like', 'a', 'chain', 'gang'], ['Who', 'give', 'a', 'fuck', 'about', 'who', 'or', 'they', 'fancy', 'crew'], [\"That's\", 'no', 'mystery', 'that', 'Hardy', 'Boys', 'do', 'with', 'Nancy', 'Drew'], ['Sorta', 'with', 'her', 'drawers', 'down', 'quarter'], ['The', 'extorter', 'bring', 'slaughter', 'like', '\"Well', 'I', 'oughta\"'], ['I', 'suggest', 'you', 'hand', 'over', 'the', 'formula', 'doula'], ['A', 'villain', 'in', 'your', 'land,', 'in', 'his', 'land', 'a', 'ruler'], ['Hard', 'hitting', 'like', 'puffing', 'a', 'woola', 'with', 'Lieutenant', 'Uhura'], ['Every', 'day', 'feel', 'like', \"it's\", 'an', 'off', 'day', 'with', 'Ferris', 'Bueller'], ['Brother', 'pull', 'heat', 'to', 'prove', 'they', 'not', 'sweet'], ['No', 'matter', 'how', 'you', 'spell', 'it,', 'we', 'still', 'got', 'beats'], ['[Kurious:]'], [\"Don't\", 'question', 'how', 'we', 'live,', 'question', 'what', 'we', 'give'], ['Take', 'it', 'to', 'the', 'next', 'leave', \"'em\", 'where', 'they', \"can't\", 'see', 'me'], ['Still', 'they', 'judge,', 'but', 'they', 'be', 'butt', 'ass'], ['Twist', 'that', 'wig', 'like', 'a', 'muppet,', 'keep', 'it', 'simple,', \"can't\", 'truss', 'it'], [\"Light's\", 'the', 'fuel,', 'mic', 'is', 'the', 'tool'], ['Drink', 'Jack,', 'kick', 'back,', 'drop', 'jewel,', 'finish', 'what', 'I', 'start'], ['Mastered', 'the', 'art,', 'living', 'hell', \"can't\", 'explain', 'it'], ['Inhale', 'confuse', 'it', 'more,', 'cop', 'the', '.44'], ['Contemplate,', 'meditate,', 'dictate'], ['I', 'direct', 'my', 'direct', 'fate,', 'coming', 'of', 'late'], ['Kurious,', 'can', 'I', 'say', 'shit'], ['Do', 'it', 'for', 'CottleRock,', 'do', 'it', 'for', 'K.Nit'], ['(RIP)'], ['K-N-I-T,', 'Sub', 'R-O-C'], ['(Eternally', 'for', 'M-I-C)'], ['Only', 'we', 'save', 'we'], ['[MF', 'Doom:]'], ['By', 'candlelight', 'my', 'hand', 'will', 'write', 'these', 'rhymes', \"'til\", \"I'm\", 'burnt', 'out'], ['Mostly', 'from', 'experience,', 'shit', 'that', 'I', 'learned', 'about'], ['Topics', 'and', 'views,', 'generally', 'concerned', 'about'], ['With', 'different', 'ways', 'to', 'come', 'up', 'and', 'earn', 'clout'], ['I', 'take', 'a', 'look', 'at', 'my', 'life', 'and', 'pace', 'the', 'trails'], ['From', 'Tablik', 'and', 'savage', 'females', 'with', 'fake', 'nails', 'to', 'face', 'veils'], ['You', 'out', 'your', 'frame', 'but', 'still', 'bagging', \"'em\", 'too'], ['You', 'know', 'I', 'know,', 'these', 'hoes', 'be', 'asking', 'me', 'if', \"I'm\", 'you'], ['Like', 'my', 'twin', 'brother,', 'we', 'did', 'everything', 'together'], ['From', 'hundred', \"raka'at\", 'salats', 'to', 'copping', 'butter', 'leathers'], ['Remember', 'when', 'you', 'went', 'and', 'got', 'the', 'dark', 'blue', 'Ballys'], ['I', 'had', 'all', 'the', 'different', 'color', 'Cazals', 'and', 'Gazelles'], ['The', '\"SUBROC\"', 'three-finger', 'ring', 'with', 'the', 'ruby', 'in', 'the', '\"O\",', 'ock'], ['Truly', 'the', 'illest', 'dynamic', 'duo', 'on', 'the', 'whole', 'block'], ['I', 'keep', 'a', 'flick', 'of', 'you', 'with', 'the', 'machete', 'sword', 'in', 'your', 'hand'], ['Everything', 'is', 'going', 'according', 'to', 'plan', 'man'], ['Absolute', 'power', 'corrupts', 'absolutely'], ['If', 'they', 'get', 'the', 'villain', 'surrounded', 'then', '(AHEM!)'], ['Good', 'to', 'the', 'last', 'drop', 'nigglets'], ['Hood', 'til', 'the', 'blast', 'pop', 'them', 'bigot-ass', 'piglets'], ['Go', 'for', 'the', 'bosses,', 'd*cks', 'are', 'higher'], ['Beat', 'walkers', 'still', 'get', 'caught', 'up', 'in', 'the', 'crossfire'], ['Get', 'at', 'the', 'sarge,', 'he', 'give', 'the', 'orders'], ['The', 'rest', 'of', 'them', \"punks'll\", 'quit', 'the', 'force', 'or', 'get', 'slaughtered'], ['Use', 'stealth', 'play,', 'alleys,', 'jet'], [\"We'd\", 'rather', 'not', 'alert', 'them', 'nosey', 'federallies', 'yet'], ['Keep', 'the', 'local', 'random', 'cases', 'in', 'each', 'state'], ['Escape', 'to', 'the', 'beaches', 'for', 'the', 'season', 'and', 'be', 'straight'], ['You', 'on', 'call,', 'keep', 'your', 'nikes', 'on', 'tight,', 'no', 'white'], ['Anybody', 'tell,', 'get', 'lighted', 'on', 'sight'], ['The', 'ring', 'is', 'on', 'a', 'need', 'to', 'know', 'basis'], ['No', 'persons,', 'places,', 'things', 'and', 'no', 'faces'], ['Get', 'bagged,', 'you', 'on', 'your', 'own,', 'act', 'it', 'alone'], ['Back', 'home,', 'your', \"fam'll\", 'be', 'provided', \"fo'\", 'while', \"you're\", 'gone'], [\"It's\", 'a', 'price', 'on', 'all', 'snitches'], ['If', 'you', 'nice', 'bring', 'back', 'eyes,', 'fingers,', 'toes', \"an'\", 'pictures'], ['Send', 'copies', 'to', 'those', 'who', \"singin'\", 'the', 'blues'], ['Mothers', \"an'\", 'fathers', \"who's\", 'unjustly', 'accused'], ['Our', 'species', 'is', 'in', 'danger'], ['Wear', 'gloves', \"an'\", 'strike', 'in', 'a', 'city', 'where', 'you', 'a', 'stranger'], [\"That'll\", 'let', 'them', 'fools', 'know'], ['And', 'send', \"'em\", 'a', 'message,', 'let', 'them', \"P.O.W.'s\", 'go'], ['Absolute', 'power', 'corrupts', 'absolutely'], ['Now', 'you', 'have', 'your', 'orders,', 'do', 'your', 'duty'], ['A', 'new', 'way', 'to', 'let', 'the', 'shots', 'spray'], ['A', 'few', 'drops', 'a', 'day,', 'double', 'expresso,', 'd.a.', 'latte'], ['No', 'smell,', 'nor', 'taste,', 'hardly', 'traceable'], ['Wait', 'to', 'waste', 'a', 'prosecutor,', 'paid', 'to', 'get', 'the', 'case', 'pulled'], ['Learn', \"'em\", 'a', 'lesson', 'for', \"givin'\", 'bros', 'mad', 'stressins'], ['A', 'long', 'list', 'of', \"CEO's\", 'names', 'and', 'addresses'], ['A', 'fake', 'judge', 'with', 'many', 'years', 'on', 'the', 'bench'], ['And', 'sent', 'some', 'good', 'cats', 'to', 'the', 'chair,', 'was', 'aired', 'in', 'a', 'trench'], ['They', 'say', 'her', 'tongue', 'was', 'teared', 'out,', 'smeared', 'and', 'drenched'], ['The', 'whole', \"system's\", 'scared', 'and', \"doubtin'\", 'a', 'fair', 'stench'], ['And', 'she', 'was', 'tortured,', 'some', 'say', 'post-mortem'], ['The', 'suspect', 'took', 'his', 'own', 'life', 'before', 'they', 'caught', \"'im\"], [\"It's\", 'real', 'spooky', 'like', 'a', 'real', 'trife', 'movie'], ['Remember', 'the', 'part', 'when', 'terminator', 'killed', 'tookey'], ['Absolute', 'power', 'corrupts', 'absolutely'], ['If', 'they', 'get', 'the', 'villain', 'surrounded,', 'son,', 'then', 'shit…'], ['Shed', 'blood,', \"some'll\", 'be', 'shooken'], ['Just', 'look', 'with', 'they', 'head', 'in', 'the', 'mud'], ['Red', 'flood'], ['VILLIAN!'], ['Living', 'off', 'borrowed', 'time,', 'the', 'clock', 'tick', 'faster'], [\"That'd\", 'be', 'the', 'hour', 'they', 'knock', 'the', 'slick', 'blaster'], ['Dick', 'Dastardly', 'and', 'Muttley', 'with', 'sick', 'laughter'], ['A', 'gun', 'fight', 'and', 'they', 'come', 'to', 'cut', 'the', 'mixmaster'], ['I-C-E', 'cold,', 'nice', 'to', 'be', 'old'], ['Y2G', 'stee', 'twice', 'to', 'threefold'], ['He', 'sold', 'scrolls,', 'lo', 'and', 'behold'], ['Know', \"who's\", 'the', 'illest', 'ever', 'like', 'the', 'greatest', 'story', 'told'], ['Keep', 'your', 'glory,', 'gold', 'and', 'glitter'], ['For', 'half,', 'half', 'of', 'his', \"niggas'll\", 'take', 'him', 'out', 'the', 'picture'], ['The', 'other', 'half', 'is', 'rich', 'and', 'it', \"don't\", 'mean', 'shit-ta'], ['Villain:', 'a', 'mixture', 'between', 'both', 'with', 'a', 'twist', 'of', 'liquor'], ['Chase', 'it', 'with', 'more', 'beer,', 'taste', 'it', 'like', 'truth', 'or', 'dare'], ['When', 'he', 'have', 'the', 'mic,', \"it's\", 'like', 'the', 'place', 'get', 'like:', '\"Aw,', 'yeah!\"'], [\"It's\", 'like', 'they', 'know', \"what's\", \"'bout\", 'to', 'happen'], ['Just', 'keep', 'ya', 'eye', 'out,', 'like', '\"Aye,', 'aye,', 'captain\"'], ['Is', 'he', 'still', 'a', 'fly', 'guy', 'clapping', 'if', 'nobody', \"ain't\", 'hear', 'it?'], ['And', 'can', 'they', 'testify', 'from', 'in', 'the', 'spirit?', '(Nah)'], ['In', 'living,', 'the', 'true', 'gods'], ['Giving', \"y'all\", 'nothing', 'but', 'the', 'lick', 'like', 'two', 'broads'], ['Got', 'more', 'lyrics', 'than', 'the', 'church', 'got', '\"Ooh,', 'Lord\"s'], ['And', 'he', 'hold', 'the', 'mic', 'and', 'your', 'attention', 'like', 'two', 'swords'], ['Either', 'that', 'or', 'either', 'one', 'with', 'two', 'blades', 'on', 'it'], ['Hey', 'you,', \"don't\", 'touch', 'the', 'mic', 'like', \"it's\", 'AIDS', 'on', 'it', '(Yuck)'], [\"It's\", 'like', 'the', 'end', 'to', 'the', 'means'], ['Fucked', 'type', 'of', 'message', 'that', 'sends', 'to', 'the', 'fiends'], [\"That's\", 'why', 'he', 'bring', 'his', 'own', 'needles'], ['And', 'get', 'more', 'cheese', 'than', 'Doritos,', 'Cheetos', 'or', 'Fritos'], ['Slip', 'like', 'Freudian'], ['Your', 'first', 'and', 'last', 'step', 'to', 'playing', 'yourself', 'like', 'accordion'], ['When', 'he', 'at', 'the', 'mic,', 'you', \"don't\", 'go', 'next'], ['Leaving', 'pussy', 'cats', 'like', 'why', 'hoes', 'need', 'Kotex'], ['Exercise', 'index,', \"won't\", 'need', 'Bowflex'], ['And', \"won't\", 'take', 'the', 'one', 'with', 'no', 'skinny', 'legs', 'like', 'Joe', 'Tex'], ['Even', 'then', 'I', 'had', 'the', 'uneasy', 'feeling', 'it', \"wasn't\", 'young', 'Viktor', 'Vaughn', 'who', 'would', 'need', 'my', 'protection'], ['Motherfuckers,', \"that's\", 'why', 'I', \"ain't\", 'playin', 'with', 'their', 'ass,', \"that's\", \"what's\", \"gon'\", 'happen', 'to', 'them', 'niggas...'], ['Motherfuckers', 'done', 'fucked', 'up,', 'man.', \"Ain't\", 'it', 'some', 'shit', 'like', 'that?'], ['Yo'], [\"I'm\", 'only', 'rhyming', 'where', 'the', 'drums', 'is', 'at'], [\"Y'all\", 'niggas', 'think', \"y'all\", 'slick', 'with', 'that', 'bullshit', 'bump', 'that'], [\"Y'all\", 'pay', 'V', 'for', 'flowing', 'to', 'the', 'beat'], ['Not', 'for', 'what', 'he', 'know', 'that', 'got', 'hoes', 'hoeing', 'in', 'the', 'streets'], [\"That's\", 'for', 'him', 'to', 'know'], ['And', 'for', 'they', 'to', 'never', 'find', 'out'], ['About', 'the', 'kidnap,', 'blind', 'fold,', 'and', 'the', 'blind', 'mouse'], ['The', 'coroner', 'report', 'say', 'he', 'simply', 'signed', 'out'], ['OH', 'and', 'I', 'know'], [\"Y'all\", 'wanna', 'see', 'a', 'wino?', 'Bring', 'the', 'wine', 'out'], ['Cat', 'with', 'a', 'dead', 'mouse', 'is', 'how', 'he', 'catch', 'a', 'phrase,', 'and', 'pause,', 'plays', 'with', 'it'], ['Kill', 'it'], ['And', 'eat', 'off', 'it', 'for', 'days,', 'get', 'it!'], ['Who', 'ever', \"ain't\", 'get', 'it', \"ain't\", 'supposed', 'to'], ['For', 'standing', 'still', 'close', 'to'], ['Bandits', 'will', 'ghost', 'you'], ['No', 'shoot,', 'Sherlock'], ['I', \"don't\", 'know', 'how', 'they', 'do', 'on', 'your', 'block'], ['Out', 'here', 'we', 'rock', 'on', 'to', 'the', 'sure', 'shot'], ['Shit', 'still', \"ain't\", 'stop,', 'keep', 'it', 'on', \"'til\", 'your', 'peeps', 'is', 'gone'], ['V', 'be', 'on', 'the', 'creep,', 'no', 'matter', 'what', 'you', 'keep', 'it', 'on'], ['CD', 'debahh....', 'oh...'], ['Aw-...', \"Ya'll\", 'motherfuckers...', 'PLAYIN....', 'motherfu-'], ['V'], ['Catch', 'the', 'beat', 'too', 'ridiculously'], ['People', 'think', 'he', 'study', \"levitation's\", 'true', 'mystery'], ['Had', 'a', 'pal', 'named', 'Ed', 'Leedskalnin', 'until', 'he', 'got', 'him', 'for', 'his', 'sweet', '16'], ['He', 'said', 'Ed', 'be', \"Wilin'\"], ['Rumor', 'has', 'it', 'things', 'got', 'violent'], ['He', 'clobbered', 'him', 'and', 'broke', 'the', 'fuck', 'out'], ['But', 'he', \"ain't\", 'try', 'to', 'rob', 'him'], ['I', 'told', 'her', \"don't\", 'tell', 'your', 'man.', \"That's\", 'the', 'trouble', 'with', 'these', 'chicks'], ['Next', 'experiment:'], ['Twelve', 'strands', 'from', 'double', 'helix'], ['No', 'I', \"haven't\", 'seen', 'Kes,', 'Neelix'], ['\"Oh', 'yeah?'], ['Why', \"don't\", 'you', 'stay', 'away', 'from', 'her', 'with', 'those', 'lyrics\"'], ['Please'], [\"Ain't\", 'nobody', 'fucking', 'after', 'her'], [\"I'm\", 'out', 'of', 'here', 'as', 'soon', 'as', 'I', 'fix', 'the', 'flux', 'capacitor'], ['And', 'OH,', 'and', 'speak', 'to', 'V', 'in', 'a', 'proper', 'manner'], ['Before', 'he', 'stabs', 'you', 'and', 'put', 'out', 'all', 'types', 'of', 'propaganda'], ['Stop', 'the', 'slander'], ['Chop', 'the', 'hand', 'of', 'a', 'thief'], ['And', 'cut', 'the', 'mouth', 'off', 'of', 'who', 'ever', 'come', 'out', 'they', 'teeth'], ['V', 'sell', 'time', 'to', 'an', 'inmate'], ['And', 'then', 'tell', 'him', 'a', 'rhyme', 'for', 'the', 'hell', 'of', 'it', 'to', 'demonstrate'], ['They', 'know', \"who's\", 'the', 'renown', 'beat', 'critic'], ['And', 'do', 'a', 'street', 'lyric', 'like,', '\"That\\'s', 'a', 'neat', 'trick!\"'], ['Off', 'on', 'a', 'tangent'], ['They', \"ain't\", 'got', 'a', 'cent'], ['Supposed', 'to', 'went', 'to', 'management,', 'and', 'spent', 'it', 'getting', 'bent'], ['Sparky,', 'I', 'had', 'enough', 'of', 'your', 'malarkey'], ['For', 'one,', \"don't\", 'mark', 'me', 'and', 'who', 'you', 'calling', 'Darkie?'], ['I', 'had', 'to', 'take', 'the', 'nigga', 'car', 'key!'], ['So', 'nasty', 'that', \"it's\", 'probably', 'somewhat', 'of', 'a', 'travesty', 'having', 'me'], ['Daily', 'told', 'the', 'people', '\"You', 'can', 'call', 'me', 'Your', 'Majesty!\"'], ['Keep', 'your', 'battery', 'charged'], ['You', 'know', 'it', \"won't\", 'stick,', 'yo'], ['And', \"it's\", 'not', 'his', 'fault', 'you', 'kick', 'slow'], [\"Should've\", 'let', 'your', 'trick', \"'ho\", 'chick', 'hold', 'your', 'sick', 'glow'], ['Plus', 'nobody', \"couldn't\", 'do', \"nothin'\", 'once', 'he', 'let', 'the', 'brick', 'go'], ['And', 'you', 'know', 'I', 'know', \"that's\", 'a', 'bunch', 'of', 'snow'], ['The', 'beat', 'is', 'so', 'butter'], ['Peep', 'the', 'slow', 'cutter'], ['As', 'he', 'utter', 'the', 'calm', 'flow', '(Your', 'mother)'], [\"Don't\", 'talk', 'about', 'my', 'moms,', 'yo'], ['Sometimes', 'he', 'rhyme', 'quick,', 'sometimes', 'he', 'rhyme', 'slow'], ['Or', 'vice', 'versa'], ['Whip', 'up', 'a', 'slice', 'of', 'nice', 'verse', 'pie'], ['Hit', 'it', 'on', 'the', 'first', 'try'], ['Villain:', 'the', 'worst', 'guy'], ['Spot', 'hot', 'tracks', 'like', 'spot', 'a', 'pair', 'of', 'fat', 'asses'], ['Shots', 'of', 'the', 'scotch', 'from', 'out', 'of', 'square', 'shot', 'glasses'], ['And', 'he', \"won't\", 'stop', \"'til\", 'he', 'got', 'the', 'masses'], ['And', 'show', \"'em\", 'what', 'they', 'know', 'not', 'through', 'flows', 'of', 'hot', 'molasses'], ['Do', 'it', 'like', 'the', 'robot', 'to', 'headspin', 'to', 'boogaloo'], ['Took', 'a', 'few', 'minutes', 'to', 'convince', 'the', 'average', 'bug-a-boo'], [\"It's\", 'ugly,', 'like', 'look', 'at', 'you'], [\"It's\", 'a', 'damn', 'shame'], ['Just', 'remember', 'ALL', 'CAPS', 'when', 'you', 'spell', 'the', 'man', 'name'], ['And', 'you', 'know', 'it', 'like', 'a', 'poet,', 'like', 'baby', 'doll'], ['I', 'bet', 'she', 'tried', 'to', 'say', 'she', 'gave', 'me', 'her', 'all,', 'she', 'played', 'ball'], ['All', 'bets', 'off!'], ['The', 'Villain', 'got', 'the', 'dice', 'rigged'], ['And', 'they', 'say', 'he', 'accosted', 'the', 'man', 'with', 'the', 'sliced', 'wig'], ['Allegedly;', 'the', 'investigation', 'is', 'still', 'ongoing'], ['In', 'this', 'pesky', 'nation', 'he', 'gots', 'the', 'best', 'con', \"flowin'\"], ['The', 'pot', 'doubles'], ['Now', 'they', 'really', 'got', 'troubles'], ['Madman', 'never', 'go', '(pop!)'], ['Like', 'snot', 'bubbles'], ['Come', 'out', 'to', 'show', 'them'], ['Like,', 'open', 'the', 'bruise', 'up', 'and', 'let', 'some', 'of', 'the', 'bruise', 'blood', 'come', 'out', 'to', 'show', 'them'], ['Come', 'out', 'to', 'show', 'them,', 'come', 'out', 'to', 'show', 'them,', 'come', 'out', 'to', 'show', 'them'], ['Come', 'out', 'to', 'show', 'them,', 'come', 'out', 'to', 'show', 'them,', 'come', 'out', 'to', 'show', 'them...'], ['Listening', 'to', 'music', 'while', 'stoned', 'is', 'a', 'whole', 'new', 'world'], ['Most', 'cannabis', 'consumers', 'report', 'it', 'second', 'only', 'to', 'sex'], ['And', 'grass', 'will', 'change', 'your', 'musical', 'habits,', 'for', 'the', 'better\"'], ['Bad', 'weed', 'right', 'there'], [\"To'\", 'up', 'man'], ['\"America\\'s', 'most', 'blunted!\"'], ['\"Soon', 'as', 'he', 'start', \"sleepin',\", \"catchin'\", 'you', 'off', 'guard\"'], ['\"Me', 'rhythm', 'now,', 'huh?\"'], ['\"If', \"you'll\", 'all', 'gather', 'close', 'around', 'the', 'phonograph\"'], ['\"Who', 'those', 'motherfuckers', \"comin'\", 'in', 'here?'], ['No!', 'It', \"can't\", 'be!'], ['\"YO!\"'], ['Where', 'Quas', 'at?'], ['Yo!'], ['DOOM,', 'you', 'got', 'the', 'trees?'], ['\"America\\'s', 'most', 'blunted!\"'], ['[MF', 'Doom:]'], ['Quas,', 'when', 'he', 'really', 'hit', 'star', 'mode'], ['Never', 'will', 'he', 'boost', 'loose', 'Phillies', 'with', 'the', 'bar-code'], ['Or', 'take', 'a', 'whole', 'carload', 'on', 'a', 'wasted', 'trip'], ['Or', 'sit', 'White', 'Owl', 'laced', 'tip', 'from', 'tip', 'with', 'yip'], ['Some', 'rather', 'baggies', 'others', 'like', 'their', 'cracks', 'in', 'vials'], ['Catch', 'a', 'tag,', 'roll', 'a', 'bag', 'of', 'schwag', 'in', 'a', 'Black', '&', 'Mild'], ['He', 'twist', 'Optimo,', 'just', 'the', 'raw', 'leaf', 'part'], ['The', 'list', 'top', 'go:', 'bust', 'before', 'beef', 'start'], ['At', 'the', 'Stop-n-Go', 'Mart,', 'actin', 'like', 'a', 'spirit', 'host', 'done', 'it'], ['-\"America\\'s', 'most', 'blunted!\"-'], ['Yeah,', 'yo'], ['DOOM', 'nominated', 'for', 'the', 'best', 'rolled', \"L's\"], ['And', 'they', 'wondered', 'how', 'he', 'dealt', 'with', 'stress', 'so', 'well'], ['Wild', 'guess?', 'You', 'could', 'say', 'he', 'stay', 'sedated'], ['Some', 'say', 'buddha-ed,', 'some', 'say', 'faded'], ['Someday', 'pray', 'that', 'he', 'will', 'grow', 'a', 'farm', 'barn', 'full'], ['Recent', 'research', 'show', \"it's\", 'not', 'so', 'darn', 'harmful', '(true)'], ['Sometimes', 'you', 'might', 'need', 'to', 'detox'], ['It', 'can', 'help', 'you', 'with', 'your', 'rhyme', 'flow', 'and', 'your', 'beat-box'], ['Off', 'spite', 'to', 'your', 'surprise'], ['Turn', 'a', 'Newport', 'Light', 'to', 'a', 'joint', 'right', 'before', 'your', 'eyes'], ['Tear', 'a', 'page', 'out', 'the', 'good', 'book,', 'hear', 'it', 'how', 'you', 'want', 'it'], ['\"America\\'s', 'most', 'blunted!\"'], ['\"Comin\\'', 'kinda', 'stupid', 'from', 'the', 'station\"'], ['\"Amazing', 'loops,', 'loops,', 'loops...\"'], ['\"-the', 'universal\"'], ['\"The-th-the-best,', 'the-th-best,', 'the-the-the,', 'the', 'best', 'in', 'your', 'perimeter\"'], ['[Lord', 'Quas:]'], ['Yo', 'I', \"can't\", 'find', 'that', 'nigga', 'Metal', 'Face', 'nowhere', '(oh', 'alright)'], ['\"America\\'s', 'most', 'blunted!\"'], ['DOOM!', 'The', 'Madvillain', 'killing', 'mad', 'boom'], ['Consume', 'weed', 'and', 'drink', 'brew', \"'til\", 'we', 'perfume', 'the', 'room'], ['The', 'beat', 'conductor', 'smoke', 'twenty-four/seven'], ['Shady...', 'you', 'can', 'even', 'ask', 'my', 'reverend'], ['Willie', 'knows,', 'how', 'the', 'Phillies', 'roll,', 'really', 'though'], ['I', 'spend', 'my', 'last', 'dough,', 'to', 'pick', 'up', 'the', 'sticky', 'gold'], ['I', 'spark', 'the', 'lah,', 'but', \"don't\", 'shh', 'with', 'speed', 'or', 'trees', 'with', 'seeds'], ['Quasimoto', 'crew,', 'we', 'get', 'keyed'], ['The', 'most', 'blunted', 'on', 'the', 'map'], ['The', 'one', 'astro', 'black,', 'in', 'the', 'alley,', 'with', 'a', 'hoodrat'], ['Hoodrat..', 'when', 'you', 'try', 'to', 'react'], ['Shut', 'the', '-', 'up!', 'Even', 'your', 'pops', 'got', 'smacked'], ['Even', 'your', 'moms', 'got', 'cracked'], ['\"Meanwhile!\"-', 'While', 'my', 'bowl', 'got', 'packed'], ['Drop', 'X', 'so', 'you', 'can', 'have', 'good', 'sex', '(What,', 'no)'], ['I', 'smoke', 'dank', 'so', 'I', 'can', 'grow', 'me', 'a', 'shank'], ['I', 'got', 'the', 'fat', 'sack,', 'shh-', 'all', 'day', 'I', 'hunt', 'it'], ['Who', 'are', 'we...?'], ['\"America\\'s', 'most', 'blunted!\"'], ['\"Comin\\'', 'kinda', 'stupid', 'from', 'the', 'station\"'], ['\"Amazing', 'loops,', 'loops,', 'loops...\"'], ['\"-the', 'universal\"'], ['\"America\\'s', 'most', 'blunted!\"'], ['Creativity,', \"it's\", 'a', 'known', 'fact', 'that', 'grass', 'increases', 'creativity'], ['From', 'eight,', 'to', 'eleven', 'times.', 'In', 'fact,', 'everyone', 'finds', 'that', \"they're\"], ['More', 'creative', 'stoned,', 'than', 'straight'], ['So', 'remember:'], ['M-A-R-I-J-U...'], ['...', 'A-J-U-A-N-A'], ['Mar-i...'], ['...juana'], ['Mari-juana'], ['[Ghostface', 'Killah:]'], ['Yea,', \"that's\", 'right'], [\"It's\", 'not', 'a', 'Hardy', 'Boy', 'mystery', 'neither'], ['This', 'is', 'real', 'shit'], ['This', 'shit', 'come', 'on', 'right', 'after', 'Hart', 'to', 'Hart', \"y'all\"], ['No', 'doubt,', '7', \"o'clock\", 'Fantasy', 'Island'], ['This', 'episode', 'is', '\"Death', 'to', 'a', 'Brooklyn', 'Man\"'], ['This', 'is', \"Tony's\", 'Angels'], ['It', 'was', 'three', 'white', 'bitches', 'who', 'worked', 'for', 'Tony', 'Starks'], ['Undercover', 'agents,', 'far', 'beyond', \"narc's\"], ['Amazed', 'by', 'they', 'beauty', 'marks'], ['Wonder', 'Woman', 'bracelets,', 'knee-high', 'boots', 'that', 'was', 'made', 'Clarks'], ['My', 'dick', 'got', 'hard,', 'at', 'how', 'they', 'spoke', 'and', 'shit'], ['Every', 'language', 'was', 'music', 'to', 'the', 'kid', 'as', 'if..'], ['I', 'was', 'modern', 'day', 'King', 'Midas'], ['Doreen,', 'Skye', 'and', 'Kelly,', \"Starky's\", \"Angel's-\", \"Shaolin's\", 'finest'], ['Though', 'it', 'happened', 'in', 'the', 'streets', 'of', 'Brooklyn'], ['Plus', 'I', 'played', 'the', 'whip', 'real', 'low', 'cause', 'my', 'face', 'was', 'rooklin'], ['My', 'Angels', 'jetted', 'out', 'of', 'Albee', 'Square'], ['Gun', 'out,', 'wrap', 'in', 'their', 'hair,', 'kinda', 'crowded', 'so', 'they', 'clap', 'in', 'the', 'air'], ['Chased', 'a', 'nigga', 'down', 'block', 'for', 'blocks'], ['Squeezing', 'glocks,', 'these', 'mommies', 'real', 'anxious', 'to', 'blow', 'off', 'his', 'top'], [\"He's\", 'a', 'rapist,', 'murderer,', 'convict,', 'burglar'], ['The', 'more', 'they', 'ran', 'the', 'more', 'they', 'skirts', 'got', 'dirtier'], ['Sending', 'shots', 'like', 'check', 'day,', 'Fed', 'Ex', 'expressway'], ['BOOM', 'BOW', 'BING!', 'You', 'heard', 'the', 'gunplay'], ['\"Who', 'shot', 'that', 'duck', 'out', 'the', 'window\"', 'Mr.', 'Lee', 'said'], ['\"Three', 'pay', 'now,', 'you', 'fucking', 'weed', 'head\"'], ['We', 'can', 'stop', 'the', 'finest', 'suspect,', \"he's\", 'dead'], ['Then', 'I', 'pulled', 'up', '\"Come', 'on', 'girls', 'to', 'Club', 'Med\"'], ['[MF', 'Doom:]'], ['Stay', 'tuned,', 'the', 'Villain', \"Three's\", 'Company'], [\"Don't\", 'sleep,', 'Part', 'One'], ['Two', 'brown', 'sisters', 'assisted', 'the', 'Villain,', 'DOOM'], ['He', 'woked', 'up,', 'stoked', 'like', 'they', 'was', 'still', 'in', 'the', 'room'], ['Freed', 'his', 'right', 'arm', 'and', 'leg,', 'it', 'was', 'more', 'like', 'a', 'sweep'], ['Release', 'his', 'other', 'leg,', 'arm,', 'head', 'and', 'rose', 'to', 'his', 'feet'], ['Staggering', 'except', 'for', 'the', 'socks', 'and', 'mask,', 'naked'], ['Threw', 'on', 'the', 'boxers,', 'searching', 'for', 'the', 'trio'], ['and', 'checking', 'for', 'the', 'keys', 'Stacked,', 'a', 'robbery', 'expected', 'yet'], ['Nothing', 'obvious', 'is', 'missing'], ['Recollected', 'now', 'why', 'Hollywood', 'hotties', 'stepped', 'into', \"Giuseppe's\"], ['And', 'naughty', 'personnel', 'nurses,', 'Chanel', 'purses,', 'CLK', 'shottie'], ['Chased', 'the', 'trees', 'with', 'Thai', 'iced', 'teas'], ['She', 'drive', 'while', 'nice', 'to', 'veggie', 'fried', 'rice', 'spicy'], ['Told', 'them', 'both,', '\"I', \"don't\", 'feel', 'so', 'well,', 'my', 'belly,'], ['Spin', 'me', 'down', 'Melrose,', 'drive', 'me', 'to', 'the', 'telly.'], [\"Ya'll\", 'go', \"'head\", 'and', 'get', 'the', 'dutches,', 'be', 'back', 'copy'], ['Feeling', 'woozy,', 'no', 'Uzi,', \"who's\", 'he', 'see', 'in', 'the', 'lobby?', 'Ray'], ['Peace.', 'pizza', 'man', 'change', 'a', 'hundred,', 'stopped', 'and', 'looked'], ['\"Nah\"', 'Whoops!', 'Left', 'the', 'knot', 'in', 'her', 'pocket', 'book'], [\"Wasn't\", 'the', 'juks', 'but', 'too', 'careless', 'fearless'], ['Got', 'to', 'the', 'room', 'and', 'fell', 'flat', 'out', 'on', 'the', 'terrace'], ['The', 'question', 'remains', 'who', 'bound', 'and', 'gagged', 'them?'], [\"That's\", 'when', 'they', 'found', 'the', 'empty', 'pack', 'of', 'black', 'Magnum'], ['Villains', 'skiid', 'a', 'gram', 'on', 'the', 'street,', '50G'], ['The', 'part', 'of', 'Mr.', 'Ropo', 'was', 'played', 'by', 'Mr', 'T'], ['[Mr.', 'Fantastik:]'], ['From', 'Venus', 'to', 'Mars', 'back', 'to', 'Earth'], ['Back', 'to', 'the', 'HBO', 'satellite'], [\"It's\", 'showtime,', 'nigga'], ['King', 'Geedorah', 'on', 'the', 'boards', '(King', 'Geedorah)'], ['MF', 'DOOM,', 'and', 'I', 'am,', 'Mister', 'Fantastik'], ['Expeditiously', 'I', 'be', 'on', 'my', 'grizzly'], ['Feds', 'try', 'to', 'creep', 'me', 'somehow', 'always', 'miss', 'me'], ['Mister', 'Fantastik', 'put', 'the', 'busy', 'in', 'the', 'bee'], ['Rock', 'from', 'the', 'bottom', 'straight', 'to', 'the', 'tizzy'], ['[MF', 'Doom:]'], ['Who', 'is', 'he?', 'He', 'need', 'to', 'get', 'out', 'more'], ['Or', 'either', 'get', 'outta', 'here', 'like', 'some', 'dang', 'outlaw'], ['Standing', 'like', 'Lurch,', 'no', 'herb', 'in', 'the', 'record', 'bin'], ['Called', 'him', 'for', 'a', 'random', 'search', 'from', 'curbside', \"checkin'\", 'in'], ['[Mr.', 'Fantastik:]'], [\"It's\", 'on', 'nigga,', 'on', 'and', 'cracking'], ['Like', \"Digg'em,\", 'lips', 'be', 'smacking'], ['Running', 'off', 'at', 'the', 'mouth', 'steady', \"talkin'\", \"'bout\", 'us'], ['On', 'some', 'shit', 'they', 'overheard', 'but', 'enough', 'is', 'enough'], ['[MF', 'Doom:]'], ['Yeah,', \"It's\", 'neither', 'here', 'nor', 'there,', 'black'], ['Warfare', 'in', 'your', 'ear,', 'clack-clack-clack-clack-clack'], [\"What's\", 'that?', \"You're\", 'hearing', 'things!', 'Tat-tat-tat-tat-tat'], ['Be', 'wearing', 'your', 'thinking', 'hat'], ['[Both:]'], ['No', 'matter', 'how', 'hard', 'they', 'try', 'they', \"can't\", 'stop', 'us', 'now'], ['We', 'got', 'King', 'Geedorah', 'on', 'the', 'boards', 'with', 'that', 'golden', 'sound', '(Are', 'you', 'serious?)', '(Of', 'course.)'], ['They', \"don't\", 'know', 'how', 'we', 'get', 'down', 'when', \"we're\", 'out', 'out', 'of', 'town'], ['(Deadly', 'serious)', '(King', 'Geedorah)'], ['So', 'when', 'you', 'see', 'us', 'in', 'the', 'streets', \"don't\", 'be', \"fuckin'\", 'around', '(Perfect)'], ['[Mr.', 'Fantastik:]'], ['A', 'hundred', 'things', 'on', 'the', 're-up,', 'of', 'course', \"I'm\", 'living', 'fat'], ['My', 'Mercedes', 'outside,', 'nigga,', 'where', 'yours', 'at?'], ['Top', 'down', 'on', 'a', 'good', 'day,', 'Decatur,', 'out', 'on', 'Wood', 'Way'], ['Got', 'cats', 'thinking', 'should', 'I', 'stay,', 'fuck', 'what', 'the', 'hood', 'say'], ['Niggas', 'wanna', 'rob', 'me', 'now'], ['Bitches', 'wanna', 'slob', 'me', 'now'], ['Hoes', \"didn't\", 'holla', 'last', 'year', 'feel', 'sorry', 'now'], ['Practice', 'jumpshot,', 'Reggie', \"Mill',\", 'Robert', 'Horry', 'now'], ['The', 'nigga', 'that', 'you', 'with', 'played', 'like', 'Atari', 'now'], ['Lyrically', 'unorthodox,', 'I', 'flow', 'continuous'], ['Never', 'on', 'a', 'straight', 'path,', \"I'm\", 'known', 'to', 'bend', 'a', 'twist'], ['Put', 'it', 'down', 'from', 'the', 'suburbs', 'to', 'the', 'tenement'], ['You', 'bet', 'against', 'me', 'but', 'wanna', 'wonder', 'where', 'your', 'money', 'went'], ['I', 'get', 'the', 'cash,', 'take', 'niggas', 'out', 'like', 'trash'], ['Known', 'to', 'stack', 'a', 'mean', 'stash,', 'they', 'used', 'to', 'call', 'me', 'pure', 'math'], ['Back', 'in', 'the', 'days', 'all', 'I', 'did', 'was', 'stay', 'paid'], ['But', 'as', 'they', 'say', 'in', 'the', 'South', \"'bitch,\", 'gimme', 'some', \"head'\"], ['[MF', 'Doom:]'], ['Excuse', 'me,', 'Mister,', 'do', 'she', 'got', 'a', 'sister?'], ['Who', 'he', 'not', 'to', 'kiss', 'her?', 'True,', 'she', 'do', 'got', 'a', 'blister'], ['Now', 'the', 'movie', 'plot', 'twists', 'like', 'a', 'Twizzler'], ['If', 'I', 'needed', 'my', 'meat', 'burned', \"I'd\", 'go', 'to', 'Sizzler'], ['Getting', 'paid', 'like', 'a', 'biker', 'with', 'the', 'best', 'crank'], ['Spray', 'it', 'like', 'a', 'high-ranked', 'sniper', 'in', 'the', 'West', 'Bank'], ['Type', 'to', 'just', 'blank', 'and', \"don't\", 'show', 'much', 'pity'], ['When', \"I'm\", 'in', 'the', 'city,', 'I', 'always', 'keep', 'a', 'dutch', 'with', 'me'], ['Touch', 'her', 'titty', \"'til\", 'she', 'ask', 'me', 'where', 'the', 'trees', 'is', 'at'], ['Or', 'tell', 'me', \"don't\", 'squeeze', 'that,', 'rats', 'wanna', 'tease', 'a', 'cat'], ['Let', 'the', 'dog', 'beg,', 'wait', 'up,', 'who', 'talking?'], ['DOOM', 'with', 'the', 'hog', 'leg', 'straight', 'up', 'New', \"Yorkin'\"], ['[Both:]'], ['No', 'matter', 'how', 'hard', 'they', 'try', 'they', \"can't\", 'stop', 'us', 'now', \"(That's\", 'correct)'], ['We', 'got', 'King', 'Geedorah', 'on', 'the', 'boards', 'with', 'that', 'golden', 'sound', '(King', 'Geedorah)'], ['They', \"don't\", 'know', 'how', 'we', 'get', 'down', 'when', \"we're\", 'out', 'uptown', '(I', 'just', \"can't\", 'stand', 'the', 'guy)'], ['So', 'when', 'you', 'see', 'us', 'in', 'the', 'streets...'], ['[Meatwad:]'], ['Danger', 'Doom', 'in', 'the', 'hizzy!'], ['Widdy', 'widdy', 'widdy', 'widdy', 'widdy', 'widdy', 'widdy', 'we'], ['We', 'need', 'food'], ['[Carl:]'], ['What', 'are', 'you', 'doin', 'there?'], ['[Meatwad:]'], [\"I'm\", 'rappin'], ['[Carl:]'], ['Yeah...', 'no,', 'no', 'I', 'see', 'that', '-', 'what', 'for?'], ['[Meatwad:]'], ['Money', '-', 'if', 'you', 'got', 'it', 'umm'], ['I', 'wanna', 'get', 'some', 'steady', 'bitches', 'and', 'hoes'], ['And', 'some', 'candy', 'for', 'my', 'nose'], ['Some', 'diamond', 'stones,', 'to', 'roll', 'with', 'my', 'chrome', 'and..'], ['[Carl:]'], ['Hey,', 'genius.', 'You', 'even', 'know', 'what', 'that', 'means?'], ['[Meatwad:]'], ['Uh-uh', '-', 'what', 'does', 'it', 'mean?'], ['[Carl:]'], [\"Where's\", 'the', 'keyboards,', 'and', 'the', 'tambourine,', 'and', 'the', 'guitar'], ['And', 'you', 'know,', 'I', 'mean', '-', 'the', 'stuff', 'that', 'like,', 'white', 'people', 'like'], ['[Meatwad:]'], ['We', 'had', 'a', 'piano'], ['[Carl:]'], ['Somethin', 'bad-ass,', 'like', 'uhh,', 'I', \"don't\", 'know'], ['Like', 'uhh,', 'REO', 'Speedwagon', 'or', 'somethin'], ['[Meatwad:]'], ['Hell', 'yeah!'], ['[MF', 'Doom:]'], ['Aiyyo,', 'I', 'know', 'this', 'dude', 'right'], ['Carl,', 'he', 'wore', 'tight', 'blue', 'sweats', 'but', \"wasn't\", 'glued', 'too', 'tight'], ['All', 'he', 'had', 'upstairs', 'was', 'a', 'crude', 'light'], ['You', 'think', \"that's\", 'weird?', 'He', 'lived', 'next', 'door', 'to', 'a', 'food', 'fight'], ['Howdy', 'Danger,', 'much', 'obliged', 'for', 'the', 'beat', 'God'], ['Even', 'though', 'you', 'still', 'eat', 'lard,', 'by', 'the', 'Meatwad'], ['Mesquite', 'charred,', 'speakin', 'of', 'which', 'or', 'who'], ['Voice', 'all', 'squeaky', 'like', 'they', 'tuned', 'it', 'up', 'a', 'pitch', 'or', 'two'], ['A', 'chunk', 'of', 'burned', 'up', \"witch's\", 'brew,', 'get', 'your', 'crew'], ['See', 'if', 'they', \"can't\", 'get', 'past', 'the', 'stench', 'of', 'the', 'stew'], ['It', 'stank', 'like', 'a', 'septic', 'tank', 'full', 'of', 'pig', 'poo'], ['He', 'mostly', 'only', 'turned', 'into', 'a', 'frank', 'or', 'a', 'igloo'], ['Switch', 'your', 'view', 'to', 'the', 'brother', 'with', 'the', 'fried', 'dreads'], ['Not', 'to', 'be', 'confused', 'with', 'the', 'incense', 'selling', 'thai', 'heads'], ['His', 'name', 'rhymes', 'with', 'Mike', 'Hawk'], ['You', 'could', 'call', 'him', 'livewire,', 'eye', 'sockets,', 'Frylock'], ['Able', 'to', 'shoot', 'electricity', 'through', 'his', 'eyeballs'], ['And', 'blast', 'all', 'through', 'your', 'single', 'sided', 'brick', 'and', 'drywall'], ['More', 'interesting', 'than', 'professional', 'wrestling'], ['When', \"he's\", 'online,', 'you', 'can', 'find', 'him', 'on', 'Instant', 'Pestering'], [\"What's\", 'up', 'with', 'your', 'boy?', \"He's\", 'not', 'a', 'soft', 'or', 'hot', 'drink'], ['Whoever', \"don't\", 'like', 'it', 'could', 'suck', 'his', 'straw,', \"it's\", 'hot', 'pink'], ['On', 'some', 'junk', 'like', 'Gucci', 'on', 'a', 'classy', 'ho'], ['Might', 'splash', 'you', 'in', 'the', 'face', 'with', 'nuclear', 'pistachio'], ['Make', 'a', 'fast', 'break,', 'or', \"that'll\", 'be', 'the', 'last', 'mistake'], ['That', \"ass'll\", 'make', 'is', 'what', 'you', 'get', 'for', 'messin', 'with', 'Master', 'Shake'], ['Look', 'out,', \"don't\", 'block', 'the', 'screen', 'son,', 'lunge', 'across'], ['Tryin', 'to', 'watch', 'Adult', 'Swim,', '\"Aqua', 'Teen', 'Hunger', 'Force!\"'], ['Rock', 'a', 'cult', 'hymn,', 'sock', 'your', 'mean', 'younger', 'boss'], ['Psht', '-', 'Adult', 'Swim,', '\"Aqua', 'Teen', 'Hunger', 'Force!\"'], ['He', 'often', 'wondered,', 'should', 'he', 'get', 'the', 'logo', 'tatted', 'to', 'his', 'woody?'], ['He', 'could', 'be', '\"#1', 'in', 'the', 'hood,', 'G!\"'], ['Easily'], ['[Master', 'Shake:]'], ['Shake', 'callin,', 'he', 'heh'], ['You', 'know', 'I', 'wa-ahhhhhhaaaaeehh'], [\"I'd\", 'just', 'got', 'off', 'the', 'phone', 'with', 'somebody', 'else', 'and', 'uh'], ['That', \"wasn't\", 'about', 'you'], ['That', 'was', 'about', 'me', 'being', 'upset', 'about', 'something', 'else'], ['I', \"shouldn't\", 'have', 'called', 'you', 'but', 'I', 'did,', 'cause', 'I', 'just'], ['I', 'like', 'you', 'so', 'much,', \"I'm\", 'REALLY', 'looking', 'forward', 'to', 'us', 'working', 'together'], ['And', 'just,', 'as', 'of', 'now', 'that', \"I'm\", 'calm'], ['And', 'after', \"I've\", 'apologized', 'profusely', '-', 'probably', 'too', 'much'], ['I', 'am', 'available,', 'call', 'me', 'doggie', '-', 'woof!'], ['Dub', 'it', 'off', 'your', 'man,', \"don't\", 'spend', 'that', 'ten', 'bucks'], ['I', 'did', 'it', 'for', 'the', 'advance,', 'the', 'back', 'end', 'sucks'], [\"It's\", 'better', 'than', 'sittin', 'up', 'in', 'a', 'crack', 'den', 'wit', 'the', 'Mac', '11'], ['Yellin', 'at', 'your', 'fiends', 'and', 'friends', 'to', 'duck'], [\"There's\", 'feds', 'at', 'the', 'door,', 'oh', \"it's\", 'just', 'Fed', 'Ex'], ['I', 'thought', 'I', 'heard', 'walkie', 'talkies,', \"must've\", 'been', 'them', 'redneck'], ['Neighbors', 'of', 'mine', 'they', 'fuckin', 'with', 'they', 'CB'], ['And', 'we', 'in', 'the', 'spot', 'watchin', 'COPS', 'on', 'TV'], ['Blazin', 'greens,', 'thumpin', \"Big's\", 'first', 'cd'], ['Drinkin', 'OE,', 'hopin', 'pigs', \"don't\", 'see'], ['If', 'they', 'was', 'psychic,', 'they', 'try', 'to', 'give', 'him', 'the', 'electric', 'chair'], [\"It's\", 'gettin', 'hectic', 'in', 'here,', 'and', \"it's\", 'a', 'election', 'year'], ['Keep', 'this', 'section', 'clear,', 'VIP'], ['Shed', 'a', 'few', 'tears', 'since', 'a', 'knee-hi', 'G'], ['And', 'got', 'more', 'tricks', 'up', 'my', 'sleeve,', 'cough,', 'hick-up', 'and', 'sneeze'], ['Make', 'a', 'emcee', 'sick', 'and', 'dry', 'heave', 'weeze'], ['They', 'must', 'be', 'still', 'allergic', 'to', 'a'], ['Real', 'raw', 'rhymer', 'with', 'skills', 'thats', 'surgical'], ['Take', 'the', 'day', 'off', 'and', 'lay', 'off', 'the', 'crazy', 'water'], ['It', \"don't\", 'faze', 'V', 'as', 'he', 'lay', 'up', 'wit', 'your', 'lazy', 'daughter..'], ['With', 'your', 'lazy', 'daughter'], ['...Heat', 'the', 'bake,', 'V', 'came', 'to', 'eat', 'your', 'team', 'steak'], ['And', 'for', 'desert,', 'a', 'treat,', 'the', 'green', 'cake'], ['So', 'much', 'sweets', \"it's\", 'a', 'dream,', 'it', 'seem', 'fake'], ['These', 'type', 'feinds', 'make', 'your', 'beat', 'machine', 'break'], [\"It's\", 'on', 'the', 'fritz,', 'put', 'it', 'on', 'the', 'ritz'], ['And', 'watch', 'what', 'he', 'gets,', 'once', 'his', 'mits', 'is', 'on', 'the', 'glitz'], ['A', 'lot', 'of', 'rappers', 'is', 'soft', 'tit,', 'talk', 'shit'], ['They', 'need', 'to', 'do', 'us', 'all', 'a', 'big', 'favor,', 'cork', 'it'], ['..Spit', 'it', 'like', 'raw', 'grits,', 'get', 'it'], ['They', 'better', 'off', 'forfeit', 'admit', 'it'], ['Relaxin', 'in', 'your', 'town,', 'once', 'the', 'tour', 'quit'], ['V', 'keep', 'comin', 'back', 'with', 'more', 'and', 'more', 'hits..'], ['More', 'hits']]\n"
     ]
    }
   ],
   "source": [
    "# Read the corpus file and split it into sentences\n",
    "with open(filename, \"r\", encoding=\"utf-8\") as file:\n",
    "    corpus_text = file.read()\n",
    "\n",
    "# Split the corpus into sentences\n",
    "sentences = corpus_text.split('\\n')\n",
    "\n",
    "# Split each sentence into words\n",
    "sentences = [sentence.split() for sentence in sentences if sentence]  # Filter out empty sentences\n",
    "\n",
    "# Print the resulting list of sentences\n",
    "print(sentences)\n"
   ]
  },
  {
   "cell_type": "code",
   "execution_count": null,
   "metadata": {},
   "outputs": [],
   "source": []
  },
  {
   "cell_type": "markdown",
   "metadata": {},
   "source": [
    "model = Word2Vec(sentences=sentences, \n",
    "                 window = 2, \n",
    "                 min_count=1, \n",
    "                 vector_size = 5)\n",
    "\n",
    "\n",
    "print(model)\n",
    "print(model.wv.get_normed_vectors().shape)\n",
    "print(f\"Vector:  {model.wv['servants']}\")\n",
    "print(f\"Similar: {model.wv.most_similar('chocolate')}\")\n",
    "model.wv.key_to_index\n"
   ]
  },
  {
   "cell_type": "code",
   "execution_count": null,
   "metadata": {},
   "outputs": [],
   "source": [
    "X = model.wv.get_normed_vectors()\n",
    "pca = PCA(n_components=2)\n",
    "result = pca.fit_transform(X)"
   ]
  },
  {
   "cell_type": "code",
   "execution_count": 33,
   "metadata": {},
   "outputs": [
    {
     "ename": "NameError",
     "evalue": "name 'result' is not defined",
     "output_type": "error",
     "traceback": [
      "\u001b[1;31m---------------------------------------------------------------------------\u001b[0m",
      "\u001b[1;31mNameError\u001b[0m                                 Traceback (most recent call last)",
      "Cell \u001b[1;32mIn[33], line 2\u001b[0m\n\u001b[0;32m      1\u001b[0m \u001b[38;5;66;03m# create a scatter plot of the projection\u001b[39;00m\n\u001b[1;32m----> 2\u001b[0m plt\u001b[38;5;241m.\u001b[39mscatter(result[:, \u001b[38;5;241m0\u001b[39m], result[:, \u001b[38;5;241m1\u001b[39m])\n\u001b[0;32m      4\u001b[0m words \u001b[38;5;241m=\u001b[39m \u001b[38;5;28mlist\u001b[39m(model\u001b[38;5;241m.\u001b[39mwv\u001b[38;5;241m.\u001b[39mindex_to_key)\n\u001b[0;32m      6\u001b[0m \u001b[38;5;28;01mfor\u001b[39;00m i, word \u001b[38;5;129;01min\u001b[39;00m \u001b[38;5;28menumerate\u001b[39m(words):\n",
      "\u001b[1;31mNameError\u001b[0m: name 'result' is not defined"
     ]
    }
   ],
   "source": [
    "# create a scatter plot of the projection\n",
    "plt.scatter(result[:, 0], result[:, 1])\n",
    "\n",
    "words = list(model.wv.index_to_key)\n",
    "\n",
    "for i, word in enumerate(words):\n",
    "   plt.annotate(word, xy=(result[i, 0], result[i, 1]))\n",
    "\n",
    "plt.show()"
   ]
  },
  {
   "cell_type": "code",
   "execution_count": null,
   "metadata": {},
   "outputs": [],
   "source": [
    "df = pd.DataFrame(model.wv.get_normed_vectors())\n",
    "df['word'] = words\n",
    "df.set_index('word', inplace = True)\n",
    "df.head(10)"
   ]
  },
  {
   "cell_type": "code",
   "execution_count": null,
   "metadata": {},
   "outputs": [],
   "source": [
    "# DATA\n",
    "with open(\"1Doom.txt\", \"r\", encoding = 'utf-8') as f:\n",
    "    gabs = f.readlines()\n",
    "\n",
    "gab_text = \". \".join(gabs)\n",
    "data = []\n",
    "for sentence in sent_tokenize(gab_text):\n",
    "    temp = []\n",
    "    for word in word_tokenize(sentence):\n",
    "        temp.append(word.lower())\n",
    "    data.append(temp)\n",
    "\n",
    "# How many \"sentences\" do we have?\n",
    "print(len(data))"
   ]
  }
 ],
 "metadata": {
  "kernelspec": {
   "display_name": "Python 3",
   "language": "python",
   "name": "python3"
  },
  "language_info": {
   "codemirror_mode": {
    "name": "ipython",
    "version": 3
   },
   "file_extension": ".py",
   "mimetype": "text/x-python",
   "name": "python",
   "nbconvert_exporter": "python",
   "pygments_lexer": "ipython3",
   "version": "3.11.8"
  }
 },
 "nbformat": 4,
 "nbformat_minor": 2
}
