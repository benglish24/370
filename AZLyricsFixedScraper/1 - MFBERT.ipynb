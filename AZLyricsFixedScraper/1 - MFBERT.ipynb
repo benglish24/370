{
 "cells": [
  {
   "cell_type": "code",
   "execution_count": 3,
   "metadata": {},
   "outputs": [],
   "source": [
    "from transformers import pipeline\n",
    "filename = \"1DOOM.txt\"\n",
    "#Function to read through the given filename \n",
    "def read_file(file):\n",
    "    sentences = []\n",
    "    #Strip through the sentences of the corpus, and append each to the sentence\n",
    "    with open(file,mode ='r',encoding =\"utf-8\") as file:\n",
    "        for line in file:\n",
    "            line = line.strip()\n",
    "            if line:\n",
    "                sentences.append(line)\n",
    "    return sentences\n",
    "#Sentences will consist of the sentences of the read file at different indices\n",
    "sentences = read_file(filename)"
   ]
  },
  {
   "cell_type": "code",
   "execution_count": 7,
   "metadata": {},
   "outputs": [
    {
     "name": "stderr",
     "output_type": "stream",
     "text": [
      "Some weights of BertForSequenceClassification were not initialized from the model checkpoint at bert-base-uncased and are newly initialized: ['classifier.bias', 'classifier.weight']\n",
      "You should probably TRAIN this model on a down-stream task to be able to use it for predictions and inference.\n"
     ]
    }
   ],
   "source": [
    "classifier = pipeline(\"sentiment-analysis\",model = \"bert-base-uncased\")\n",
    "\n",
    "result = classifier(sentences)\n",
    "if result[0]['label'] == 'LABEL_2':\n",
    "    sentiment_label = 'Positive'\n",
    "else:\n",
    "    sentiment_label = 'Negative'\n",
    "print(\"Sentiment:\",sentiment_label)\n",
    "print(\"Score:\",result[0][\"score\"])"
   ]
  },
  {
   "cell_type": "code",
   "execution_count": null,
   "metadata": {},
   "outputs": [],
   "source": [
    "print(result)"
   ]
  }
 ],
 "metadata": {
  "kernelspec": {
   "display_name": "370",
   "language": "python",
   "name": "python3"
  },
  "language_info": {
   "codemirror_mode": {
    "name": "ipython",
    "version": 3
   },
   "file_extension": ".py",
   "mimetype": "text/x-python",
   "name": "python",
   "nbconvert_exporter": "python",
   "pygments_lexer": "ipython3",
   "version": "3.11.7"
  }
 },
 "nbformat": 4,
 "nbformat_minor": 2
}
